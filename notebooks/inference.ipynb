{
 "cells": [
  {
   "cell_type": "code",
   "execution_count": 32,
   "metadata": {},
   "outputs": [],
   "source": [
    "import scipdf\n",
    "import sys\n",
    "sys.path.append('../')\n",
    "\n",
    "from pdf_parser import parse_pdf_content, parse_pdf_abstract, generate_user_input "
   ]
  },
  {
   "cell_type": "markdown",
   "metadata": {},
   "source": [
    "This is the system prompt for generating the reviews."
   ]
  },
  {
   "cell_type": "code",
   "execution_count": 33,
   "metadata": {},
   "outputs": [],
   "source": [
    "SYSTEM_PROMPT = \"\"\"\n",
    "You are a professional machine learning conference reviewer who reviews a given paper and considers 4 criteria: [Significance and novelty], [Potential reasons for acceptance], [Potential reasons for rejection], and [Suggestions for improvement]. Please ensure that for each criterion, you summarize and provide random number of detailed supporting points from the content of the paper. And for each supporting point within each of criteria, use the format: '<title of supporting point>' followed by a detailed explanation. The criteria you need to focus on are:\n",
    "\n",
    "1. [Significance and novelty]: Assess the importance of the paper in its research field and the innovation of its methods or findings。\n",
    "2. [Potential reasons for acceptance]: Summarize reasons that may support the acceptance of the paper, based on its quality, research results, experimental design, etc.\n",
    "3. [Potential reasons for rejection]: Identify and explain flaws or shortcomings that could lead to the paper's rejection.\n",
    "4. [Suggestions for improvement]: Provide specific suggestions to help the authors improve the paper and increase its chances of acceptance.\n",
    "\n",
    "After reading the content of the paper provided below, your response should only include your reviews only, which means always start with [Significance and novelty], dont' repeat the given paper and output things other than your reviews in required format, just extract and summarize information related to these criteria from the provided paper. The paper is given as follows:\n",
    "\"\"\""
   ]
  },
  {
   "cell_type": "markdown",
   "metadata": {},
   "source": [
    "Parse the PDF file and extract the text."
   ]
  },
  {
   "cell_type": "code",
   "execution_count": 28,
   "metadata": {},
   "outputs": [],
   "source": [
    "pdf = scipdf.parse_pdf_to_dict('../demo/Transformers.pdf')"
   ]
  },
  {
   "cell_type": "markdown",
   "metadata": {},
   "source": [
    "# Model Inference"
   ]
  },
  {
   "cell_type": "code",
   "execution_count": 34,
   "metadata": {},
   "outputs": [],
   "source": [
    "import torch\n",
    "from transformers import AutoTokenizer\n",
    "from peft import AutoPeftModelForCausalLM"
   ]
  },
  {
   "cell_type": "code",
   "execution_count": null,
   "metadata": {},
   "outputs": [],
   "source": [
    "model_id = \"travis0103/mistral_7b_paper_review_lora\"\n",
    "\n",
    "model = AutoPeftModelForCausalLM.from_pretrained(\n",
    "    model_id,\n",
    "    device_map=\"auto\",\n",
    ")\n",
    "\n",
    "tokenizer = AutoTokenizer.from_pretrained(model_id)"
   ]
  },
  {
   "cell_type": "code",
   "execution_count": null,
   "metadata": {},
   "outputs": [],
   "source": [
    "abstract = parse_pdf_abstract(pdf) \n",
    "abstract_input = generate_user_input(abstract) \n",
    "print(abstract_input)"
   ]
  },
  {
   "cell_type": "code",
   "execution_count": 49,
   "metadata": {},
   "outputs": [],
   "source": [
    "messages = [\n",
    "    {\"role\": \"user\", \"content\": SYSTEM_PROMPT + \"\\n\\n\" + abstract_input},\n",
    "]\n",
    "device = torch.device(\"cuda\" if torch.cuda.is_available() else \"cpu\")\n",
    "encoded_input = tokenizer.apply_chat_template(messages, return_tensors=\"pt\").to(device)\n",
    "generated_ids = model.generate(encoded_input, max_new_tokens=1024, do_sample=True, pad_token_id=tokenizer.eos_token_id, eos_token_id=tokenizer.eos_token_id)\n",
    "decoded_output = tokenizer.decode(generated_ids[0], skip_special_tokens=True)"
   ]
  },
  {
   "cell_type": "code",
   "execution_count": 44,
   "metadata": {},
   "outputs": [],
   "source": [
    "import re\n",
    "\n",
    "def extract_sections(text):\n",
    "    # Define the pattern to capture each section\n",
    "    pattern = r\"\\[(Significance and novelty|Potential reasons for acceptance|Potential reasons for rejection|Suggestions for improvement)\\]\" \\\n",
    "            r\"(.*?)(?=\\n\\[(Significance and novelty|Potential reasons for acceptance|Potential reasons for rejection|Suggestions for improvement)\\]|\\Z)\"\n",
    "    \n",
    "    # Use re.findall to get all matches\n",
    "    sections = re.findall(pattern, text, flags=re.DOTALL)\n",
    "\n",
    "    # Convert list of tuples into a dictionary for easier access\n",
    "    section_dict = {section[0]: section[1].strip() for section in sections}\n",
    "    \n",
    "    final_output = \"\"\n",
    "    for key, value in section_dict.items():\n",
    "        final_output += f\"[{key}]\\n{value}\\n\\n\"\n",
    "        \n",
    "    return final_output\n"
   ]
  },
  {
   "cell_type": "code",
   "execution_count": 45,
   "metadata": {},
   "outputs": [
    {
     "name": "stdout",
     "output_type": "stream",
     "text": [
      "[Significance and novelty]\n",
      "<Innovation in model architecture> The paper introduces a new and innovative way of doing sequence-to-sequence translation with the transformer architecture, demonstrating significant advantages over previous methods through extensive experimental evaluation.\n",
      "<Thorough experimental evaluation> The paper conducts a thorough evaluation and comparison against other attention models, addressing concerns and demonstrating the superiority of the proposed approach through substantial improvements in translation performance.\n",
      "\n",
      "[Potential reasons for acceptance]\n",
      "<Impressive experimental results> The proposed transformer architecture achieves strong results and advances the state-of-the-art in sequence-to-sequence translation tasks.\n",
      "<Addressing concerns> The authors have made effort to address the concerns raised by the reviewers and have committed to improving the paper based on the feedback received.\n",
      "\n",
      "[Potential reasons for rejection]\n",
      "<Inadequate experimental evaluation> The paper lacks a comprehensive evaluation and comparison against other attention models, and more standard comparisons with established neural architectures in comparable settings are needed.\n",
      "\n",
      "[Suggestions for improvement]\n",
      "<Standard baseline comparisons> Compare the proposed approach against state-of-the-art models and include comparisons with LSTM and CNN as the mainstream models in similar settings to provide a fair assessment.\n",
      "\n",
      "\n"
     ]
    }
   ],
   "source": [
    "print(extract_sections(decoded_output))\n"
   ]
  },
  {
   "cell_type": "markdown",
   "metadata": {},
   "source": [
    "## Run Inference on review results"
   ]
  },
  {
   "cell_type": "code",
   "execution_count": null,
   "metadata": {},
   "outputs": [],
   "source": [
    "import pandas as pd "
   ]
  },
  {
   "cell_type": "markdown",
   "metadata": {},
   "source": [
    "# GPT Inference"
   ]
  },
  {
   "cell_type": "code",
   "execution_count": 15,
   "metadata": {},
   "outputs": [],
   "source": [
    "import os\n",
    "import openai\n",
    "\n",
    "os.environ[\"OPENAI_API_KEY\"] = \"\"\n",
    "client = openai.Client()"
   ]
  },
  {
   "cell_type": "code",
   "execution_count": null,
   "metadata": {},
   "outputs": [],
   "source": [
    "full_content = parse_pdf_content(pdf)\n",
    "full_input = generate_user_input(full_content)"
   ]
  },
  {
   "cell_type": "code",
   "execution_count": 16,
   "metadata": {},
   "outputs": [],
   "source": [
    "response = client.chat.completions.create(\n",
    "    model=\"gpt-4-turbo\",\n",
    "    messages=[\n",
    "      {\"role\": \"system\", \"content\": SYSTEM_PROMPT},\n",
    "      {\"role\": \"user\", \"content\": full_input},\n",
    "    ]\n",
    ")"
   ]
  },
  {
   "cell_type": "code",
   "execution_count": 17,
   "metadata": {},
   "outputs": [
    {
     "name": "stdout",
     "output_type": "stream",
     "text": [
      "[Significance and novelty]\n",
      "The \"Transformer\" paper introduces a novel architecture that challenges the dominant sequence transduction models which rely on recurrent neural networks (RNNs) and convolutional neural networks (CNNs). The main contributions and innovations of this work include the introduction of an architecture based entirely on attention mechanisms, eliminating the need for recurrence or convolution within the model, which represents a significant shift in the approach to machine translation and potentially other sequence modeling tasks.\n",
      "\n",
      "- 'Elimination of recurrence and convolution': The proposed Transformer model is novel in its exclusive reliance on attention mechanisms, avoiding traditional RNNs and CNNs which can be computationally expensive and slow due to their inherent sequential nature.\n",
      "- 'Optimization for Parallelization': The Transformer is designed to maximize parallel computational capabilities, reducing training time significantly compared to existing models.\n",
      "- 'Introduction of Multi-Head Attention': This paper is the first to implement Multi-Head Attention, allowing the model to jointly process information from different representation subspaces at different positions, which enhances the model's ability to capture complex dependencies in the data.\n",
      "\n",
      "[Potential reasons for acceptance]\n",
      "The Transformer model demonstrates state-of-the-art performance on standard machine translation tasks, significant improvements in training efficiency, and detailed experimental analysis, all of which strongly support the acceptance of this paper.\n",
      "\n",
      "- 'Superior Performance': The model outperforms all previous models, including ensembles, on the WMT 2014 English-to-German and English-to-French translation tasks, with substantial improvements in BLEU scores.\n",
      "- 'Efficiency in Training': It is noted that the Transformer requires substantially less time to train—up to 3.5 days on eight GPUs, making it more practical and accessible for use in different settings.\n",
      "- 'Extensive Experimental Validation': The authors provide a comprehensive set of experiments and ablations that demonstrate the effectiveness of different components of the Transformer, such as variations in the number of attention heads and the use of sinusoidal vs. learned positional encodings.\n",
      "\n",
      "[Potential reasons for rejection]\n",
      "Despite its strengths, there are a few aspects that might concern reviewers, mainly related to the generalizability and the computational demand of the model.\n",
      "\n",
      "- 'Heavy Computational Resources': While more efficient than some prior models, the Transformer still requires significant computational power (e.g., multiple GPUs), which might not be feasible for all research or practical applications.\n",
      "- 'Limited Evaluation Scope': The application of the Transformer is demonstrated primarily on machine translation tasks. Its performance and utility on other NLP tasks or in non-NLP domains remain unexplored in this paper.\n",
      "- 'Potential Overfitting in Smaller Datasets': The model's complexity and capacity might lead to overfitting when applied to smaller datasets or less resource-rich languages, a point that isn't addressed thoroughly.\n",
      "\n",
      "[Suggestions for improvement]\n",
      "To strengthen the paper further, the authors might consider addressing the generalizability of the Transformer model and experiment with computational optimizations.\n",
      "\n",
      "- 'Broader Evaluation on Various Tasks': Expanding the evaluation to include a variety of other tasks such as summarization, text generation, and beyond NLP tasks can demonstrate the adaptability and broad utility of the Transformer model.\n",
      "- 'Investigation into Model Compression': Research into model compression techniques or more efficient attention mechanisms could help in reducing the computational load, making the Transformer feasible on lower-resource settings.\n",
      "- 'Experiments on Smaller and Diverse Datasets': Additional experiments on smaller or low-resource datasets could help understand the model's performance limitations and improvements in handling overfitting.\n",
      "\n",
      "By addressing these aspects, the paper could appeal to a broader audience and offer insights into the scalability and versatility of the Transformer architecture in various domains and applications.\n"
     ]
    }
   ],
   "source": [
    "print(response.choices[0].message.content)"
   ]
  }
 ],
 "metadata": {
  "kernelspec": {
   "display_name": "review_gpt",
   "language": "python",
   "name": "python3"
  },
  "language_info": {
   "codemirror_mode": {
    "name": "ipython",
    "version": 3
   },
   "file_extension": ".py",
   "mimetype": "text/x-python",
   "name": "python",
   "nbconvert_exporter": "python",
   "pygments_lexer": "ipython3",
   "version": "3.10.9"
  }
 },
 "nbformat": 4,
 "nbformat_minor": 2
}
