{
 "cells": [
  {
   "cell_type": "code",
   "execution_count": 1,
   "metadata": {},
   "outputs": [],
   "source": [
    "import scipdf\n",
    "import sys\n",
    "sys.path.append('../')\n",
    "\n",
    "from pdf_parser import parse_pdf_content, parse_pdf_abstract, generate_user_input "
   ]
  },
  {
   "cell_type": "markdown",
   "metadata": {},
   "source": [
    "This is the system prompt for generating the reviews."
   ]
  },
  {
   "cell_type": "code",
   "execution_count": 8,
   "metadata": {},
   "outputs": [],
   "source": [
    "SYSTEM_PROMPT = \"\"\"\n",
    "You are a professional machine learning conference reviewer who reviews a given paper and considers 4 criteria: [Significance and novelty], [Potential reasons for acceptance], [Potential reasons for rejection], and [Suggestions for improvement]. Please ensure that for each criterion, you summarize and provide random number of detailed supporting points from the content of the paper. And for each supporting point within each of criteria, use the format: '<title of supporting point>' followed by a detailed explanation. The criteria you need to focus on are:\n",
    "\n",
    "1. [Significance and novelty]: Assess the importance of the paper in its research field and the innovation of its methods or findings。\n",
    "2. [Potential reasons for acceptance]: Summarize reasons that may support the acceptance of the paper, based on its quality, research results, experimental design, etc.\n",
    "3. [Potential reasons for rejection]: Identify and explain flaws or shortcomings that could lead to the paper's rejection.\n",
    "4. [Suggestions for improvement]: Provide specific suggestions to help the authors improve the paper and increase its chances of acceptance.\n",
    "\n",
    "After reading the content of the paper provided below, your response should only include your reviews only, which means always start with [Significance and novelty], dont' repeat the given paper and output things other than your reviews in required format, just extract and summarize information related to these criteria from the provided paper. The paper is given as follows:\n",
    "\"\"\""
   ]
  },
  {
   "cell_type": "markdown",
   "metadata": {},
   "source": [
    "Parse the PDF file and extract the text."
   ]
  },
  {
   "cell_type": "code",
   "execution_count": 28,
   "metadata": {},
   "outputs": [],
   "source": [
    "pdf = scipdf.parse_pdf_to_dict('../demo/Transformers.pdf')"
   ]
  },
  {
   "cell_type": "markdown",
   "metadata": {},
   "source": [
    "# Model Inference"
   ]
  },
  {
   "cell_type": "code",
   "execution_count": 1,
   "metadata": {},
   "outputs": [
    {
     "name": "stderr",
     "output_type": "stream",
     "text": [
      "/Users/jieyinuo/Desktop/CIS6200/review-gpt/cis6200/lib/python3.9/site-packages/bitsandbytes/cextension.py:34: UserWarning: The installed version of bitsandbytes was compiled without GPU support. 8-bit optimizers, 8-bit multiplication, and GPU quantization are unavailable.\n",
      "  warn(\"The installed version of bitsandbytes was compiled without GPU support. \"\n"
     ]
    },
    {
     "name": "stdout",
     "output_type": "stream",
     "text": [
      "'NoneType' object has no attribute 'cadam32bit_grad_fp32'\n"
     ]
    }
   ],
   "source": [
    "import torch\n",
    "from transformers import AutoTokenizer\n",
    "from peft import AutoPeftModelForCausalLM"
   ]
  },
  {
   "cell_type": "code",
   "execution_count": 3,
   "metadata": {},
   "outputs": [
    {
     "data": {
      "application/vnd.jupyter.widget-view+json": {
       "model_id": "b14d1851f871466391a7224e07d5b5c7",
       "version_major": 2,
       "version_minor": 0
      },
      "text/plain": [
       "Loading checkpoint shards:   0%|          | 0/3 [00:00<?, ?it/s]"
      ]
     },
     "metadata": {},
     "output_type": "display_data"
    },
    {
     "data": {
      "application/vnd.jupyter.widget-view+json": {
       "model_id": "776d45f2658243e798a88ce76823743d",
       "version_major": 2,
       "version_minor": 0
      },
      "text/plain": [
       "tokenizer_config.json:   0%|          | 0.00/1.61k [00:00<?, ?B/s]"
      ]
     },
     "metadata": {},
     "output_type": "display_data"
    },
    {
     "data": {
      "application/vnd.jupyter.widget-view+json": {
       "model_id": "a89fefe6f74c47f3b77fa96787056322",
       "version_major": 2,
       "version_minor": 0
      },
      "text/plain": [
       "tokenizer.json:   0%|          | 0.00/1.80M [00:00<?, ?B/s]"
      ]
     },
     "metadata": {},
     "output_type": "display_data"
    },
    {
     "data": {
      "application/vnd.jupyter.widget-view+json": {
       "model_id": "8a5e18aad0654857bb41789c5c11c059",
       "version_major": 2,
       "version_minor": 0
      },
      "text/plain": [
       "special_tokens_map.json:   0%|          | 0.00/557 [00:00<?, ?B/s]"
      ]
     },
     "metadata": {},
     "output_type": "display_data"
    },
    {
     "name": "stderr",
     "output_type": "stream",
     "text": [
      "Special tokens have been added in the vocabulary, make sure the associated word embeddings are fine-tuned or trained.\n"
     ]
    },
    {
     "data": {
      "application/vnd.jupyter.widget-view+json": {
       "model_id": "a9879cd3a7654ea68f6aa6cda92f0fe6",
       "version_major": 2,
       "version_minor": 0
      },
      "text/plain": [
       "adapter_model.safetensors:   0%|          | 0.00/1.20G [00:00<?, ?B/s]"
      ]
     },
     "metadata": {},
     "output_type": "display_data"
    },
    {
     "name": "stderr",
     "output_type": "stream",
     "text": [
      "Special tokens have been added in the vocabulary, make sure the associated word embeddings are fine-tuned or trained.\n"
     ]
    }
   ],
   "source": [
    "model_id = \"travis0103/mistral_7b_paper_review_lora\"\n",
    "\n",
    "model = AutoPeftModelForCausalLM.from_pretrained(model_id)\n",
    "tokenizer = AutoTokenizer.from_pretrained(model_id)"
   ]
  },
  {
   "cell_type": "code",
   "execution_count": null,
   "metadata": {},
   "outputs": [],
   "source": [
    "abstract = parse_pdf_abstract(pdf) \n",
    "abstract_input = generate_user_input(abstract) \n",
    "print(abstract_input)"
   ]
  },
  {
   "cell_type": "code",
   "execution_count": 49,
   "metadata": {},
   "outputs": [],
   "source": [
    "messages = [\n",
    "    {\"role\": \"user\", \"content\": SYSTEM_PROMPT},\n",
    "    {\"role\": \"user\", \"content\": abstract_input}\n",
    "]\n",
    "device = torch.device(\"cuda\" if torch.cuda.is_available() else \"cpu\")\n",
    "encoded_input = tokenizer.apply_chat_template(messages, return_tensors=\"pt\").to(device)\n",
    "generated_ids = model.generate(encoded_input, max_new_tokens=1024, do_sample=True, pad_token_id=tokenizer.eos_token_id, eos_token_id=tokenizer.eos_token_id)\n",
    "decoded_output = tokenizer.decode(generated_ids[0], skip_special_tokens=True)"
   ]
  },
  {
   "cell_type": "code",
   "execution_count": 4,
   "metadata": {},
   "outputs": [],
   "source": [
    "import re\n",
    "\n",
    "def extract_sections(text):\n",
    "    # Define the pattern to capture each section\n",
    "    pattern = r\"\\[(Significance and novelty|Potential reasons for acceptance|Potential reasons for rejection|Suggestions for improvement)\\]\" \\\n",
    "            r\"(.*?)(?=\\n\\[(Significance and novelty|Potential reasons for acceptance|Potential reasons for rejection|Suggestions for improvement)\\]|\\Z)\"\n",
    "    \n",
    "    # Use re.findall to get all matches\n",
    "    sections = re.findall(pattern, text, flags=re.DOTALL)\n",
    "\n",
    "    # Convert list of tuples into a dictionary for easier access\n",
    "    section_dict = {section[0]: section[1].strip() for section in sections}\n",
    "    \n",
    "    final_output = \"\"\n",
    "    for key, value in section_dict.items():\n",
    "        final_output += f\"[{key}]\\n{value}\\n\\n\"\n",
    "        \n",
    "    return final_output\n"
   ]
  },
  {
   "cell_type": "code",
   "execution_count": 45,
   "metadata": {},
   "outputs": [
    {
     "name": "stdout",
     "output_type": "stream",
     "text": [
      "[Significance and novelty]\n",
      "<Innovation in model architecture> The paper introduces a new and innovative way of doing sequence-to-sequence translation with the transformer architecture, demonstrating significant advantages over previous methods through extensive experimental evaluation.\n",
      "<Thorough experimental evaluation> The paper conducts a thorough evaluation and comparison against other attention models, addressing concerns and demonstrating the superiority of the proposed approach through substantial improvements in translation performance.\n",
      "\n",
      "[Potential reasons for acceptance]\n",
      "<Impressive experimental results> The proposed transformer architecture achieves strong results and advances the state-of-the-art in sequence-to-sequence translation tasks.\n",
      "<Addressing concerns> The authors have made effort to address the concerns raised by the reviewers and have committed to improving the paper based on the feedback received.\n",
      "\n",
      "[Potential reasons for rejection]\n",
      "<Inadequate experimental evaluation> The paper lacks a comprehensive evaluation and comparison against other attention models, and more standard comparisons with established neural architectures in comparable settings are needed.\n",
      "\n",
      "[Suggestions for improvement]\n",
      "<Standard baseline comparisons> Compare the proposed approach against state-of-the-art models and include comparisons with LSTM and CNN as the mainstream models in similar settings to provide a fair assessment.\n",
      "\n",
      "\n"
     ]
    }
   ],
   "source": [
    "print(extract_sections(decoded_output))\n"
   ]
  },
  {
   "cell_type": "markdown",
   "metadata": {},
   "source": [
    "## Run Inference on review results"
   ]
  },
  {
   "cell_type": "code",
   "execution_count": 6,
   "metadata": {},
   "outputs": [
    {
     "data": {
      "text/html": [
       "<div>\n",
       "<style scoped>\n",
       "    .dataframe tbody tr th:only-of-type {\n",
       "        vertical-align: middle;\n",
       "    }\n",
       "\n",
       "    .dataframe tbody tr th {\n",
       "        vertical-align: top;\n",
       "    }\n",
       "\n",
       "    .dataframe thead th {\n",
       "        text-align: right;\n",
       "    }\n",
       "</style>\n",
       "<table border=\"1\" class=\"dataframe\">\n",
       "  <thead>\n",
       "    <tr style=\"text-align: right;\">\n",
       "      <th></th>\n",
       "      <th>title</th>\n",
       "      <th>json_file</th>\n",
       "      <th>full_input</th>\n",
       "      <th>abstract_input</th>\n",
       "      <th>human_reviews_summaries</th>\n",
       "      <th>human_reviews_summaries_lengths</th>\n",
       "      <th>gpt_3.5_full_reviews_summaries</th>\n",
       "      <th>gpt_3.5_full_reviews_summaries_lengths</th>\n",
       "      <th>gpt_3.5_full_reviews_summaries_match</th>\n",
       "      <th>gpt_3.5_full_reviews_summaries_match_lengths</th>\n",
       "      <th>...</th>\n",
       "      <th>gpt_4_full_reviews_summaries_match</th>\n",
       "      <th>gpt_4_full_reviews_summaries_match_lengths</th>\n",
       "      <th>gpt_4_abstract_reviews_summaries</th>\n",
       "      <th>gpt_4_abstract_reviews_summaries_lengths</th>\n",
       "      <th>gpt_4_abstract_reviews_summaries_match</th>\n",
       "      <th>gpt_4_abstract_reviews_summaries_match_lengths</th>\n",
       "      <th>gpt_4_abstract_reviews_one_shot_summaries</th>\n",
       "      <th>gpt_4_abstract_reviews_one_shot_summaries_lengths</th>\n",
       "      <th>gpt_4_abstract_reviews_one_shot_summaries_match</th>\n",
       "      <th>gpt_4_abstract_reviews_one_shot_summaries_match_lengths</th>\n",
       "    </tr>\n",
       "  </thead>\n",
       "  <tbody>\n",
       "    <tr>\n",
       "      <th>0</th>\n",
       "      <td>A Walk with SGD: How SGD Explores Regions of D...</td>\n",
       "      <td>B1l6e3RcF7.json</td>\n",
       "      <td>[TITLE]\\nA WALK WITH SGD: HOW SGD EXPLORES REG...</td>\n",
       "      <td>[TITLE]\\nA WALK WITH SGD: HOW SGD EXPLORES REG...</td>\n",
       "      <td>{\\n    \"1\": {\\n        \"summary\": \"The review ...</td>\n",
       "      <td>3</td>\n",
       "      <td>{\\n    \"1\": {\\n        \"summary\": \"The paper l...</td>\n",
       "      <td>4</td>\n",
       "      <td>{\\n    \"A2-B4\": {\\n        \"rationale\": \"Both ...</td>\n",
       "      <td>2</td>\n",
       "      <td>...</td>\n",
       "      <td>{}</td>\n",
       "      <td>0</td>\n",
       "      <td>{\\n    \"1\": {\\n        \"summary\": \"The paper l...</td>\n",
       "      <td>2</td>\n",
       "      <td>{\\n    \"A3-B2\": {\\n        \"rationale\": \"Both ...</td>\n",
       "      <td>1</td>\n",
       "      <td>{\\n    \"1\": {\\n        \"summary\": \"Lack of the...</td>\n",
       "      <td>2</td>\n",
       "      <td>{\\n    \"A2-B1\": {\\n        \"rationale\": \"Both ...</td>\n",
       "      <td>2</td>\n",
       "    </tr>\n",
       "    <tr>\n",
       "      <th>1</th>\n",
       "      <td>Neural representation and generation for RNA s...</td>\n",
       "      <td>snOgiCYZgJ7.json</td>\n",
       "      <td>[TITLE]\\nNEURAL REPRESENTATION AND GENERATION ...</td>\n",
       "      <td>[TITLE]\\nNEURAL REPRESENTATION AND GENERATION ...</td>\n",
       "      <td>{\\n    \"1\": {\\n        \"summary\": \"The paper l...</td>\n",
       "      <td>4</td>\n",
       "      <td>{\\n    \"1\": {\\n        \"summary\": \"Concerns ab...</td>\n",
       "      <td>4</td>\n",
       "      <td>{\\n    \"A1-B4\": {\\n        \"rationale\": \"Both ...</td>\n",
       "      <td>2</td>\n",
       "      <td>...</td>\n",
       "      <td>{\\n    \"A1-B1\": {\\n        \"rationale\": \"Both ...</td>\n",
       "      <td>1</td>\n",
       "      <td>{\\n    \"1\": {\\n        \"summary\": \"Lack of emp...</td>\n",
       "      <td>2</td>\n",
       "      <td>{}</td>\n",
       "      <td>0</td>\n",
       "      <td>{\\n    \"1\": {\\n        \"summary\": \"Complexity ...</td>\n",
       "      <td>2</td>\n",
       "      <td>{}</td>\n",
       "      <td>0</td>\n",
       "    </tr>\n",
       "    <tr>\n",
       "      <th>2</th>\n",
       "      <td>Deep Neural Networks as Gaussian Processes</td>\n",
       "      <td>B1EA-M-0Z.json</td>\n",
       "      <td>[TITLE]\\nDEEP NEURAL NETWORKS AS GAUSSIAN PROC...</td>\n",
       "      <td>[TITLE]\\nDEEP NEURAL NETWORKS AS GAUSSIAN PROC...</td>\n",
       "      <td>{\\n    \"1\": {\\n        \"summary\": \"Lack of com...</td>\n",
       "      <td>4</td>\n",
       "      <td>{\\n    \"1\": {\\n        \"summary\": \"Computation...</td>\n",
       "      <td>4</td>\n",
       "      <td>{\\n    \"A1-B4\": {\\n        \"rationale\": \"Both ...</td>\n",
       "      <td>1</td>\n",
       "      <td>...</td>\n",
       "      <td>{\\n    \"A2-B1\": {\\n        \"rationale\": \"Both ...</td>\n",
       "      <td>2</td>\n",
       "      <td>{\\n    \"1\": {\\n        \"summary\": \"The paper m...</td>\n",
       "      <td>3</td>\n",
       "      <td>{\\n    \"A2-B2\": {\\n        \"rationale\": \"Both ...</td>\n",
       "      <td>2</td>\n",
       "      <td>{\\n    \"1\": {\\n        \"summary\": \"Computation...</td>\n",
       "      <td>3</td>\n",
       "      <td>{\\n    \"A1-B1\": {\\n        \"rationale\": \"Both ...</td>\n",
       "      <td>3</td>\n",
       "    </tr>\n",
       "    <tr>\n",
       "      <th>3</th>\n",
       "      <td>PseudoSeg: Designing Pseudo Labels for Semanti...</td>\n",
       "      <td>-TwO99rbVRu.json</td>\n",
       "      <td>[TITLE]\\nPSEUDOSEG: DESIGNING PSEUDO LABELS FO...</td>\n",
       "      <td>[TITLE]\\nPSEUDOSEG: DESIGNING PSEUDO LABELS FO...</td>\n",
       "      <td>{\\n    \"1\": {\\n        \"summary\": \"Concerns ab...</td>\n",
       "      <td>3</td>\n",
       "      <td>{\\n    \"1\": {\\n        \"summary\": \"Insufficien...</td>\n",
       "      <td>4</td>\n",
       "      <td>{\\n    \"A2-B2\": {\\n        \"rationale\": \"Both ...</td>\n",
       "      <td>1</td>\n",
       "      <td>...</td>\n",
       "      <td>{}</td>\n",
       "      <td>0</td>\n",
       "      <td>{\\n    \"1\": {\\n        \"summary\": \"The paper l...</td>\n",
       "      <td>2</td>\n",
       "      <td>{\\n    \"A2-B1\": {\"rationale\": \"Review A2 quest...</td>\n",
       "      <td>1</td>\n",
       "      <td>{\\n    \"1\": {\\n        \"summary\": \"Comparison ...</td>\n",
       "      <td>2</td>\n",
       "      <td>{\\n    \"A2-B2\": {\\n        \"rationale\": \"Both ...</td>\n",
       "      <td>2</td>\n",
       "    </tr>\n",
       "    <tr>\n",
       "      <th>4</th>\n",
       "      <td>Model-Free Model Reconciliation</td>\n",
       "      <td>Byex4T2XcV.json</td>\n",
       "      <td>[TITLE]\\nModel-Free Model Reconciliation\\n\\n[A...</td>\n",
       "      <td>[TITLE]\\nModel-Free Model Reconciliation\\n\\n[A...</td>\n",
       "      <td>{\\n    \"1\": {\\n        \"summary\": \"Lack of cla...</td>\n",
       "      <td>2</td>\n",
       "      <td>{\\n    \"1\": {\\n        \"summary\": \"Assumption ...</td>\n",
       "      <td>4</td>\n",
       "      <td>{\\n    \"A2-B4\": {\\n        \"rationale\": \"Both ...</td>\n",
       "      <td>1</td>\n",
       "      <td>...</td>\n",
       "      <td>{\\n    \"A2-B2\": {\\n        \"rationale\": \"Both ...</td>\n",
       "      <td>3</td>\n",
       "      <td>{\\n    \"1\": {\\n        \"summary\": \"The paper l...</td>\n",
       "      <td>3</td>\n",
       "      <td>{\\n    \"A1-2-B2\": {\\n        \"rationale\": \"Bot...</td>\n",
       "      <td>2</td>\n",
       "      <td>{\\n    \"1\": {\\n        \"summary\": \"Concern abo...</td>\n",
       "      <td>2</td>\n",
       "      <td>{\\n    \"A2-2-B2\": {\\n        \"rationale\": \"Bot...</td>\n",
       "      <td>1</td>\n",
       "    </tr>\n",
       "  </tbody>\n",
       "</table>\n",
       "<p>5 rows × 30 columns</p>\n",
       "</div>"
      ],
      "text/plain": [
       "                                               title         json_file  \\\n",
       "0  A Walk with SGD: How SGD Explores Regions of D...   B1l6e3RcF7.json   \n",
       "1  Neural representation and generation for RNA s...  snOgiCYZgJ7.json   \n",
       "2         Deep Neural Networks as Gaussian Processes    B1EA-M-0Z.json   \n",
       "3  PseudoSeg: Designing Pseudo Labels for Semanti...  -TwO99rbVRu.json   \n",
       "4                    Model-Free Model Reconciliation   Byex4T2XcV.json   \n",
       "\n",
       "                                          full_input  \\\n",
       "0  [TITLE]\\nA WALK WITH SGD: HOW SGD EXPLORES REG...   \n",
       "1  [TITLE]\\nNEURAL REPRESENTATION AND GENERATION ...   \n",
       "2  [TITLE]\\nDEEP NEURAL NETWORKS AS GAUSSIAN PROC...   \n",
       "3  [TITLE]\\nPSEUDOSEG: DESIGNING PSEUDO LABELS FO...   \n",
       "4  [TITLE]\\nModel-Free Model Reconciliation\\n\\n[A...   \n",
       "\n",
       "                                      abstract_input  \\\n",
       "0  [TITLE]\\nA WALK WITH SGD: HOW SGD EXPLORES REG...   \n",
       "1  [TITLE]\\nNEURAL REPRESENTATION AND GENERATION ...   \n",
       "2  [TITLE]\\nDEEP NEURAL NETWORKS AS GAUSSIAN PROC...   \n",
       "3  [TITLE]\\nPSEUDOSEG: DESIGNING PSEUDO LABELS FO...   \n",
       "4  [TITLE]\\nModel-Free Model Reconciliation\\n\\n[A...   \n",
       "\n",
       "                             human_reviews_summaries  \\\n",
       "0  {\\n    \"1\": {\\n        \"summary\": \"The review ...   \n",
       "1  {\\n    \"1\": {\\n        \"summary\": \"The paper l...   \n",
       "2  {\\n    \"1\": {\\n        \"summary\": \"Lack of com...   \n",
       "3  {\\n    \"1\": {\\n        \"summary\": \"Concerns ab...   \n",
       "4  {\\n    \"1\": {\\n        \"summary\": \"Lack of cla...   \n",
       "\n",
       "   human_reviews_summaries_lengths  \\\n",
       "0                                3   \n",
       "1                                4   \n",
       "2                                4   \n",
       "3                                3   \n",
       "4                                2   \n",
       "\n",
       "                      gpt_3.5_full_reviews_summaries  \\\n",
       "0  {\\n    \"1\": {\\n        \"summary\": \"The paper l...   \n",
       "1  {\\n    \"1\": {\\n        \"summary\": \"Concerns ab...   \n",
       "2  {\\n    \"1\": {\\n        \"summary\": \"Computation...   \n",
       "3  {\\n    \"1\": {\\n        \"summary\": \"Insufficien...   \n",
       "4  {\\n    \"1\": {\\n        \"summary\": \"Assumption ...   \n",
       "\n",
       "   gpt_3.5_full_reviews_summaries_lengths  \\\n",
       "0                                       4   \n",
       "1                                       4   \n",
       "2                                       4   \n",
       "3                                       4   \n",
       "4                                       4   \n",
       "\n",
       "                gpt_3.5_full_reviews_summaries_match  \\\n",
       "0  {\\n    \"A2-B4\": {\\n        \"rationale\": \"Both ...   \n",
       "1  {\\n    \"A1-B4\": {\\n        \"rationale\": \"Both ...   \n",
       "2  {\\n    \"A1-B4\": {\\n        \"rationale\": \"Both ...   \n",
       "3  {\\n    \"A2-B2\": {\\n        \"rationale\": \"Both ...   \n",
       "4  {\\n    \"A2-B4\": {\\n        \"rationale\": \"Both ...   \n",
       "\n",
       "   gpt_3.5_full_reviews_summaries_match_lengths  ...  \\\n",
       "0                                             2  ...   \n",
       "1                                             2  ...   \n",
       "2                                             1  ...   \n",
       "3                                             1  ...   \n",
       "4                                             1  ...   \n",
       "\n",
       "                  gpt_4_full_reviews_summaries_match  \\\n",
       "0                                                 {}   \n",
       "1  {\\n    \"A1-B1\": {\\n        \"rationale\": \"Both ...   \n",
       "2  {\\n    \"A2-B1\": {\\n        \"rationale\": \"Both ...   \n",
       "3                                                 {}   \n",
       "4  {\\n    \"A2-B2\": {\\n        \"rationale\": \"Both ...   \n",
       "\n",
       "   gpt_4_full_reviews_summaries_match_lengths  \\\n",
       "0                                           0   \n",
       "1                                           1   \n",
       "2                                           2   \n",
       "3                                           0   \n",
       "4                                           3   \n",
       "\n",
       "                    gpt_4_abstract_reviews_summaries  \\\n",
       "0  {\\n    \"1\": {\\n        \"summary\": \"The paper l...   \n",
       "1  {\\n    \"1\": {\\n        \"summary\": \"Lack of emp...   \n",
       "2  {\\n    \"1\": {\\n        \"summary\": \"The paper m...   \n",
       "3  {\\n    \"1\": {\\n        \"summary\": \"The paper l...   \n",
       "4  {\\n    \"1\": {\\n        \"summary\": \"The paper l...   \n",
       "\n",
       "   gpt_4_abstract_reviews_summaries_lengths  \\\n",
       "0                                         2   \n",
       "1                                         2   \n",
       "2                                         3   \n",
       "3                                         2   \n",
       "4                                         3   \n",
       "\n",
       "              gpt_4_abstract_reviews_summaries_match  \\\n",
       "0  {\\n    \"A3-B2\": {\\n        \"rationale\": \"Both ...   \n",
       "1                                                 {}   \n",
       "2  {\\n    \"A2-B2\": {\\n        \"rationale\": \"Both ...   \n",
       "3  {\\n    \"A2-B1\": {\"rationale\": \"Review A2 quest...   \n",
       "4  {\\n    \"A1-2-B2\": {\\n        \"rationale\": \"Bot...   \n",
       "\n",
       "   gpt_4_abstract_reviews_summaries_match_lengths  \\\n",
       "0                                               1   \n",
       "1                                               0   \n",
       "2                                               2   \n",
       "3                                               1   \n",
       "4                                               2   \n",
       "\n",
       "           gpt_4_abstract_reviews_one_shot_summaries  \\\n",
       "0  {\\n    \"1\": {\\n        \"summary\": \"Lack of the...   \n",
       "1  {\\n    \"1\": {\\n        \"summary\": \"Complexity ...   \n",
       "2  {\\n    \"1\": {\\n        \"summary\": \"Computation...   \n",
       "3  {\\n    \"1\": {\\n        \"summary\": \"Comparison ...   \n",
       "4  {\\n    \"1\": {\\n        \"summary\": \"Concern abo...   \n",
       "\n",
       "   gpt_4_abstract_reviews_one_shot_summaries_lengths  \\\n",
       "0                                                  2   \n",
       "1                                                  2   \n",
       "2                                                  3   \n",
       "3                                                  2   \n",
       "4                                                  2   \n",
       "\n",
       "     gpt_4_abstract_reviews_one_shot_summaries_match  \\\n",
       "0  {\\n    \"A2-B1\": {\\n        \"rationale\": \"Both ...   \n",
       "1                                                 {}   \n",
       "2  {\\n    \"A1-B1\": {\\n        \"rationale\": \"Both ...   \n",
       "3  {\\n    \"A2-B2\": {\\n        \"rationale\": \"Both ...   \n",
       "4  {\\n    \"A2-2-B2\": {\\n        \"rationale\": \"Bot...   \n",
       "\n",
       "   gpt_4_abstract_reviews_one_shot_summaries_match_lengths  \n",
       "0                                                  2        \n",
       "1                                                  0        \n",
       "2                                                  3        \n",
       "3                                                  2        \n",
       "4                                                  1        \n",
       "\n",
       "[5 rows x 30 columns]"
      ]
     },
     "execution_count": 6,
     "metadata": {},
     "output_type": "execute_result"
    }
   ],
   "source": [
    "import pandas as pd \n",
    "\n",
    "df = pd.read_csv('../demo/data/review_results.csv')\n",
    "df.head()"
   ]
  },
  {
   "cell_type": "code",
   "execution_count": null,
   "metadata": {},
   "outputs": [],
   "source": [
    "model_reviews = []"
   ]
  },
  {
   "cell_type": "code",
   "execution_count": null,
   "metadata": {},
   "outputs": [],
   "source": [
    "from tqdm import tqdm\n",
    "\n",
    "for abstract in tqdm(df['abstract_input'], total=len(df), desc=\"Generating reviews\"):\n",
    "    messages = [\n",
    "        {\"role\": \"user\", \"content\": SYSTEM_PROMPT},\n",
    "        {\"role\": \"user\", \"content\": abstract},\n",
    "    ]\n",
    "    encoded_input = tokenizer.apply_chat_template(messages, return_tensors=\"pt\")\n",
    "    generated_ids = model.generate(\n",
    "        encoded_input,\n",
    "        max_new_tokens=1024,\n",
    "        do_sample=True,\n",
    "        pad_token_id=tokenizer.eos_token_id,\n",
    "        eos_token_id=tokenizer.eos_token_id,\n",
    "    )\n",
    "    decoded_output = tokenizer.decode(generated_ids[0], skip_special_tokens=True)\n",
    "    model_reviews.append(extract_sections(decoded_output))"
   ]
  },
  {
   "cell_type": "markdown",
   "metadata": {},
   "source": [
    "# GPT Inference"
   ]
  },
  {
   "cell_type": "code",
   "execution_count": 15,
   "metadata": {},
   "outputs": [],
   "source": [
    "import os\n",
    "import openai\n",
    "\n",
    "os.environ[\"OPENAI_API_KEY\"] = \"\"\n",
    "client = openai.Client()"
   ]
  },
  {
   "cell_type": "code",
   "execution_count": null,
   "metadata": {},
   "outputs": [],
   "source": [
    "full_content = parse_pdf_content(pdf)\n",
    "full_input = generate_user_input(full_content)"
   ]
  },
  {
   "cell_type": "code",
   "execution_count": 16,
   "metadata": {},
   "outputs": [],
   "source": [
    "response = client.chat.completions.create(\n",
    "    model=\"gpt-4-turbo\",\n",
    "    messages=[\n",
    "      {\"role\": \"system\", \"content\": SYSTEM_PROMPT},\n",
    "      {\"role\": \"user\", \"content\": full_input},\n",
    "    ]\n",
    ")"
   ]
  },
  {
   "cell_type": "code",
   "execution_count": 17,
   "metadata": {},
   "outputs": [
    {
     "name": "stdout",
     "output_type": "stream",
     "text": [
      "[Significance and novelty]\n",
      "The \"Transformer\" paper introduces a novel architecture that challenges the dominant sequence transduction models which rely on recurrent neural networks (RNNs) and convolutional neural networks (CNNs). The main contributions and innovations of this work include the introduction of an architecture based entirely on attention mechanisms, eliminating the need for recurrence or convolution within the model, which represents a significant shift in the approach to machine translation and potentially other sequence modeling tasks.\n",
      "\n",
      "- 'Elimination of recurrence and convolution': The proposed Transformer model is novel in its exclusive reliance on attention mechanisms, avoiding traditional RNNs and CNNs which can be computationally expensive and slow due to their inherent sequential nature.\n",
      "- 'Optimization for Parallelization': The Transformer is designed to maximize parallel computational capabilities, reducing training time significantly compared to existing models.\n",
      "- 'Introduction of Multi-Head Attention': This paper is the first to implement Multi-Head Attention, allowing the model to jointly process information from different representation subspaces at different positions, which enhances the model's ability to capture complex dependencies in the data.\n",
      "\n",
      "[Potential reasons for acceptance]\n",
      "The Transformer model demonstrates state-of-the-art performance on standard machine translation tasks, significant improvements in training efficiency, and detailed experimental analysis, all of which strongly support the acceptance of this paper.\n",
      "\n",
      "- 'Superior Performance': The model outperforms all previous models, including ensembles, on the WMT 2014 English-to-German and English-to-French translation tasks, with substantial improvements in BLEU scores.\n",
      "- 'Efficiency in Training': It is noted that the Transformer requires substantially less time to train—up to 3.5 days on eight GPUs, making it more practical and accessible for use in different settings.\n",
      "- 'Extensive Experimental Validation': The authors provide a comprehensive set of experiments and ablations that demonstrate the effectiveness of different components of the Transformer, such as variations in the number of attention heads and the use of sinusoidal vs. learned positional encodings.\n",
      "\n",
      "[Potential reasons for rejection]\n",
      "Despite its strengths, there are a few aspects that might concern reviewers, mainly related to the generalizability and the computational demand of the model.\n",
      "\n",
      "- 'Heavy Computational Resources': While more efficient than some prior models, the Transformer still requires significant computational power (e.g., multiple GPUs), which might not be feasible for all research or practical applications.\n",
      "- 'Limited Evaluation Scope': The application of the Transformer is demonstrated primarily on machine translation tasks. Its performance and utility on other NLP tasks or in non-NLP domains remain unexplored in this paper.\n",
      "- 'Potential Overfitting in Smaller Datasets': The model's complexity and capacity might lead to overfitting when applied to smaller datasets or less resource-rich languages, a point that isn't addressed thoroughly.\n",
      "\n",
      "[Suggestions for improvement]\n",
      "To strengthen the paper further, the authors might consider addressing the generalizability of the Transformer model and experiment with computational optimizations.\n",
      "\n",
      "- 'Broader Evaluation on Various Tasks': Expanding the evaluation to include a variety of other tasks such as summarization, text generation, and beyond NLP tasks can demonstrate the adaptability and broad utility of the Transformer model.\n",
      "- 'Investigation into Model Compression': Research into model compression techniques or more efficient attention mechanisms could help in reducing the computational load, making the Transformer feasible on lower-resource settings.\n",
      "- 'Experiments on Smaller and Diverse Datasets': Additional experiments on smaller or low-resource datasets could help understand the model's performance limitations and improvements in handling overfitting.\n",
      "\n",
      "By addressing these aspects, the paper could appeal to a broader audience and offer insights into the scalability and versatility of the Transformer architecture in various domains and applications.\n"
     ]
    }
   ],
   "source": [
    "print(response.choices[0].message.content)"
   ]
  }
 ],
 "metadata": {
  "kernelspec": {
   "display_name": "review_gpt",
   "language": "python",
   "name": "python3"
  },
  "language_info": {
   "codemirror_mode": {
    "name": "ipython",
    "version": 3
   },
   "file_extension": ".py",
   "mimetype": "text/x-python",
   "name": "python",
   "nbconvert_exporter": "python",
   "pygments_lexer": "ipython3",
   "version": "3.9.12"
  }
 },
 "nbformat": 4,
 "nbformat_minor": 2
}
