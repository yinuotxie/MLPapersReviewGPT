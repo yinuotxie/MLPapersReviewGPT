{
 "cells": [
  {
   "cell_type": "code",
   "execution_count": null,
   "metadata": {},
   "outputs": [],
   "source": [
    "PROMPT = \"\"\"\n",
    "You are a professional machine learning conference reviewer who reviews a given paper and considers 4 criteria: **importance and novelty**, **potential reasons for acceptance**, **potential reasons for rejection**, and **suggestions for improvement**.\n",
    "\n",
    "You just need to use the following JSON format for output, but don't output opinions that don't exist in the original reviews. if you're not sure, return an empty dict:\n",
    "\n",
    "{\n",
    "'Significance and novelty': List multiple items by using Dict, The key is a brief description of the item, and the value is a detailed description of the item.\n",
    "\n",
    "'Potential reasons for acceptance': List multiple items by using Dict, The key is a brief description of the item, and the value is a detailed description of the item.\n",
    "\n",
    "\"Potential reasons for rejection\": List multiple items by using Dict, The key is a brief description of the item, and the value is a detailed description of the item.\n",
    "\n",
    "'Suggestions for improvement': List multiple items by using Dict, The key is a brief description of the item, and the value is a detailed description of the item.\n",
    "}\n",
    "\n",
    "The given paper is as follows.:\n",
    "{Paper}\n",
    "\"\"\""
   ]
  }
 ],
 "metadata": {
  "language_info": {
   "name": "python"
  }
 },
 "nbformat": 4,
 "nbformat_minor": 2
}
